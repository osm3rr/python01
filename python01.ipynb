{
 "cells": [
  {
   "cell_type": "code",
   "execution_count": 1,
   "metadata": {
    "metadata": {}
   },
   "outputs": [
    {
     "name": "stdout",
     "output_type": "stream",
     "text": [
      "epale mundo 2\n"
     ]
    }
   ],
   "source": [
    "print(\"epale mundo 2\")"
   ]
  },
  {
   "cell_type": "markdown",
   "metadata": {},
   "source": []
  },
  {
   "cell_type": "markdown",
   "metadata": {},
   "source": [
    "### Python\n",
    "* Variables\n",
    "* Sintaxis \n",
    "    - Tipos de errores\n",
    "* Operadores matemáticos básicos\n",
    "* Operadores de comparación\n",
    "* Operadores lógicos\n",
    "* Condicionales \n",
    "    - simples\n",
    "    - Anidados\n",
    "    - Encadenados\n",
    "* Ciclos\n",
    "    - finitos\n",
    "    - infinitos\n",
    "* Funciones\n",
    "* Estructuras de datos\n",
    "    - Cadenas de caracteres\n",
    "    - Enteros\n",
    "    - Flotantes\n",
    "    - Listas\n",
    "    - Diccionarios\n",
    "    - Tuplas\n",
    "\n"
   ]
  },
  {
   "cell_type": "code",
   "execution_count": 2,
   "metadata": {
    "metadata": {}
   },
   "outputs": [],
   "source": [
    "# variables\n",
    "# minuscula\n",
    "name = \"josefino\"\n",
    "apellido = 'primero'"
   ]
  },
  {
   "cell_type": "code",
   "execution_count": 3,
   "metadata": {
    "metadata": {}
   },
   "outputs": [
    {
     "ename": "SyntaxError",
     "evalue": "cannot assign to expression here. Maybe you meant '==' instead of '='? (1610165941.py, line 4)",
     "output_type": "error",
     "traceback": [
      "\u001b[1;36m  Cell \u001b[1;32mIn[3], line 4\u001b[1;36m\u001b[0m\n\u001b[1;33m    last-name = 'primero'\u001b[0m\n\u001b[1;37m    ^\u001b[0m\n\u001b[1;31mSyntaxError\u001b[0m\u001b[1;31m:\u001b[0m cannot assign to expression here. Maybe you meant '==' instead of '='?\n"
     ]
    }
   ],
   "source": [
    "last_name = 'primero'\n",
    "LastName = 'primero'\n",
    "\n",
    "last-name = 'primero'"
   ]
  },
  {
   "cell_type": "code",
   "execution_count": 11,
   "metadata": {
    "metadata": {}
   },
   "outputs": [
    {
     "ename": "NameError",
     "evalue": "name 'last' is not defined",
     "output_type": "error",
     "traceback": [
      "\u001b[1;31m---------------------------------------------------------------------------\u001b[0m",
      "\u001b[1;31mNameError\u001b[0m                                 Traceback (most recent call last)",
      "Cell \u001b[1;32mIn[11], line 1\u001b[0m\n\u001b[1;32m----> 1\u001b[0m \u001b[43mlast\u001b[49m\u001b[38;5;241m.\u001b[39mname \u001b[38;5;241m=\u001b[39m \u001b[38;5;124m\"\u001b[39m\u001b[38;5;124mprimero\u001b[39m\u001b[38;5;124m\"\u001b[39m\n",
      "\u001b[1;31mNameError\u001b[0m: name 'last' is not defined"
     ]
    }
   ],
   "source": [
    "last.name = \"primero\""
   ]
  },
  {
   "cell_type": "code",
   "execution_count": null,
   "metadata": {},
   "outputs": [],
   "source": [
    "name = 'josefino'"
   ]
  },
  {
   "cell_type": "code",
   "execution_count": 12,
   "metadata": {
    "metadata": {}
   },
   "outputs": [
    {
     "ename": "SyntaxError",
     "evalue": "cannot assign to expression here. Maybe you meant '==' instead of '='? (3338274558.py, line 1)",
     "output_type": "error",
     "traceback": [
      "\u001b[1;36m  Cell \u001b[1;32mIn[12], line 1\u001b[1;36m\u001b[0m\n\u001b[1;33m    last-name = 'josewfino'\u001b[0m\n\u001b[1;37m    ^\u001b[0m\n\u001b[1;31mSyntaxError\u001b[0m\u001b[1;31m:\u001b[0m cannot assign to expression here. Maybe you meant '==' instead of '='?\n"
     ]
    }
   ],
   "source": [
    "last-name = 'josewfino'"
   ]
  },
  {
   "cell_type": "code",
   "execution_count": 13,
   "metadata": {
    "metadata": {}
   },
   "outputs": [],
   "source": [
    "Last_name = 'josefino'"
   ]
  },
  {
   "cell_type": "code",
   "execution_count": 14,
   "metadata": {
    "metadata": {}
   },
   "outputs": [
    {
     "data": {
      "text/plain": [
       "'primero'"
      ]
     },
     "execution_count": 14,
     "metadata": {},
     "output_type": "execute_result"
    }
   ],
   "source": [
    "last_name"
   ]
  },
  {
   "cell_type": "code",
   "execution_count": 26,
   "metadata": {
    "metadata": {}
   },
   "outputs": [
    {
     "name": "stdout",
     "output_type": "stream",
     "text": [
      "Suma: 30\n",
      "Resta: -10\n",
      "Multiplicación: 200\n",
      "División: 0.5\n"
     ]
    }
   ],
   "source": [
    "# OPERADORES MATEMATICOS\n",
    "number_1 = 10\n",
    "number_2 = 20\n",
    "\n",
    "# suma\n",
    "sum_two = number_1 + number_2\n",
    "print(\"Suma:\", sum_two)\n",
    "\n",
    "# resta\n",
    "resta = number_1 - number_2\n",
    "print(\"Resta:\", resta)\n",
    "\n",
    "# multiplicación\n",
    "\n",
    "multi = number_1 * number_2\n",
    "print(\"Multiplicación:\", multi)\n",
    "\n",
    "# división \n",
    "div = number_1 / number_2\n",
    "print(\"División:\", div )"
   ]
  },
  {
   "cell_type": "code",
   "execution_count": 34,
   "metadata": {
    "metadata": {}
   },
   "outputs": [
    {
     "name": "stdout",
     "output_type": "stream",
     "text": [
      "Resta: -11.22\n",
      "Multiplicación: 255.4915\n",
      "División: 0.5024390243902439\n",
      "Suma: 33.88\n"
     ]
    }
   ],
   "source": [
    "# OPERADORES MATEMATICOS\n",
    "number_1 = input( \"Ingrese el primer número: \" )\n",
    "number_1 = float(number_1)\n",
    "\n",
    "number_2 = input( \"Ingrese el segundo número: \" )\n",
    "number_2 = float(number_2)\n",
    "\n",
    "# resta\n",
    "resta = number_1 - number_2\n",
    "print(\"Resta:\", resta)\n",
    "\n",
    "# multiplicación\n",
    "\n",
    "multi = number_1 * number_2\n",
    "print(\"Multiplicación:\", multi)\n",
    "\n",
    "# división \n",
    "div = number_1 / number_2\n",
    "print(\"División:\", div )\n",
    "\n",
    "# suma\n",
    "sum_two = number_1 + number_2\n",
    "print(\"Suma:\", sum_two)"
   ]
  },
  {
   "cell_type": "code",
   "execution_count": 32,
   "metadata": {
    "metadata": {}
   },
   "outputs": [
    {
     "data": {
      "text/plain": [
       "'1122'"
      ]
     },
     "execution_count": 32,
     "metadata": {},
     "output_type": "execute_result"
    }
   ],
   "source": []
  },
  {
   "cell_type": "code",
   "execution_count": 33,
   "metadata": {
    "metadata": {}
   },
   "outputs": [
    {
     "data": {
      "text/plain": [
       "'aabb'"
      ]
     },
     "execution_count": 33,
     "metadata": {},
     "output_type": "execute_result"
    }
   ],
   "source": [
    "\"aa\" + \"bb\""
   ]
  },
  {
   "cell_type": "code",
   "execution_count": 30,
   "metadata": {
    "metadata": {}
   },
   "outputs": [
    {
     "data": {
      "text/plain": [
       "str"
      ]
     },
     "execution_count": 30,
     "metadata": {},
     "output_type": "execute_result"
    }
   ],
   "source": [
    "type(number_1)"
   ]
  },
  {
   "cell_type": "code",
   "execution_count": 44,
   "metadata": {
    "metadata": {}
   },
   "outputs": [
    {
     "name": "stdout",
     "output_type": "stream",
     "text": [
      "mayor\n"
     ]
    }
   ],
   "source": [
    "# condicional\n",
    "# operadores de comparación\n",
    "# mayor >\n",
    "# menor <\n",
    "# mayor igual >=\n",
    "# menor igual <=\n",
    "# igual? ==\n",
    "# diferente != \n",
    "\n",
    "number_1 = int( input(\"número 1:\") )\n",
    "number_2 = int( input(\"número 2: \"))\n",
    "\n",
    "if number_1 > number_2:\n",
    "    print(\"mayor\")\n",
    "else:\n",
    "    print(\"menor\")"
   ]
  },
  {
   "cell_type": "code",
   "execution_count": 37,
   "metadata": {
    "metadata": {}
   },
   "outputs": [
    {
     "data": {
      "text/plain": [
       "False"
      ]
     },
     "execution_count": 37,
     "metadata": {},
     "output_type": "execute_result"
    }
   ],
   "source": [
    "2 > 2"
   ]
  },
  {
   "cell_type": "code",
   "execution_count": 35,
   "metadata": {
    "metadata": {}
   },
   "outputs": [
    {
     "name": "stdout",
     "output_type": "stream",
     "text": [
      "Resta: -65.88999999999999\n",
      "Multiplicación: 3380.2076\n",
      "División: 0.33958103638368253\n",
      "Suma: 133.65\n"
     ]
    }
   ],
   "source": [
    "# OPERADORES MATEMATICOS \n",
    "\n",
    "\n",
    "number_1 = float(input( \"Ingrese el primer número: \" ))\n",
    "\n",
    "number_2 =  float(input( \"Ingrese el segundo número: \" ))\n",
    "\n",
    "operation = input(\"Seleccione su operación: suma, resta, multi, div\")\n",
    "\n",
    "\n",
    "# resta\n",
    "resta = number_1 - number_2\n",
    "print(\"Resta:\", resta)\n",
    "\n",
    "# multiplicación\n",
    "multi = number_1 * number_2\n",
    "print(\"Multiplicación:\", multi)\n",
    "\n",
    "# división \n",
    "div = number_1 / number_2\n",
    "print(\"División:\", div )\n",
    "\n",
    "# suma\n",
    "sum_two = number_1 + number_2\n",
    "print(\"Suma:\", sum_two)"
   ]
  },
  {
   "cell_type": "code",
   "execution_count": 1,
   "metadata": {},
   "outputs": [
    {
     "name": "stdout",
     "output_type": "stream",
     "text": [
      "hola mundo\n"
     ]
    }
   ],
   "source": [
    "print(\"hola mundo\")"
   ]
  },
  {
   "cell_type": "code",
   "execution_count": 6,
   "metadata": {},
   "outputs": [
    {
     "name": "stdout",
     "output_type": "stream",
     "text": [
      "Condición no válida\n"
     ]
    }
   ],
   "source": [
    "# OPERADORES MATEMATICOS\n",
    "# Condicionales encadenados\n",
    "number_1 = float(input( \"Ingrese el primer número: \" ))\n",
    "\n",
    "number_2 =  float(input( \"Ingrese el segundo número: \" ))\n",
    "\n",
    "operation = input(\"Seleccione su operación: suma, resta, multi, div\")\n",
    "\n",
    "if operation == \"resta\":\n",
    "    # resta\n",
    "    resta = number_1 - number_2\n",
    "    print(\"Resta:\", resta)\n",
    "\n",
    "elif operation == \"multi\":\n",
    "    # multiplicación\n",
    "    multi = number_1 * number_2\n",
    "    print(\"Multiplicación:\", multi)\n",
    "\n",
    "elif operation == \"div\":\n",
    "    # división \n",
    "    div = number_1 / number_2\n",
    "    print(\"División:\", div )\n",
    "\n",
    "elif operation == \"suma\":\n",
    "    # suma\n",
    "    sum_two = number_1 + number_2\n",
    "    print(\"Suma:\", sum_two)\n",
    "else:\n",
    "    print(\"Condición no válida\")"
   ]
  },
  {
   "cell_type": "code",
   "execution_count": 9,
   "metadata": {},
   "outputs": [],
   "source": [
    "# Ciclos finitos\n",
    "# listas\n",
    "#\"cadenas\"\n",
    "#20\n",
    "#12.33\n",
    "\n",
    "names = [\n",
    "    \"jose\",\n",
    "    \"maria\",\n",
    "    \"juan\",\n",
    "    ]\n",
    "\n",
    "# indice  0 , 1, 2, ...\n",
    "numbers = [10, 20, 30.5]\n",
    "\n"
   ]
  },
  {
   "cell_type": "code",
   "execution_count": 10,
   "metadata": {},
   "outputs": [
    {
     "name": "stdout",
     "output_type": "stream",
     "text": [
      "['jose', 'maria', 'juan']\n"
     ]
    }
   ],
   "source": [
    "print(names)"
   ]
  },
  {
   "cell_type": "code",
   "execution_count": 14,
   "metadata": {},
   "outputs": [
    {
     "data": {
      "text/plain": [
       "30.5"
      ]
     },
     "execution_count": 14,
     "metadata": {},
     "output_type": "execute_result"
    }
   ],
   "source": [
    "names[2]\n",
    "numbers[2]"
   ]
  },
  {
   "cell_type": "code",
   "execution_count": 15,
   "metadata": {},
   "outputs": [
    {
     "data": {
      "text/plain": [
       "30.5"
      ]
     },
     "execution_count": 15,
     "metadata": {},
     "output_type": "execute_result"
    }
   ],
   "source": [
    "numbers[-1]"
   ]
  },
  {
   "cell_type": "code",
   "execution_count": 16,
   "metadata": {},
   "outputs": [
    {
     "data": {
      "text/plain": [
       "10"
      ]
     },
     "execution_count": 16,
     "metadata": {},
     "output_type": "execute_result"
    }
   ],
   "source": [
    "numbers[-3]"
   ]
  },
  {
   "cell_type": "code",
   "execution_count": 17,
   "metadata": {},
   "outputs": [],
   "source": [
    "# agregar un elemento en la lista de nombres\n",
    "names.append(\"josefino\")"
   ]
  },
  {
   "cell_type": "code",
   "execution_count": 18,
   "metadata": {},
   "outputs": [
    {
     "data": {
      "text/plain": [
       "['jose', 'maria', 'juan', 'josefino']"
      ]
     },
     "execution_count": 18,
     "metadata": {},
     "output_type": "execute_result"
    }
   ],
   "source": [
    "names"
   ]
  },
  {
   "cell_type": "code",
   "execution_count": 19,
   "metadata": {},
   "outputs": [
    {
     "data": {
      "text/plain": [
       "'jose'"
      ]
     },
     "execution_count": 19,
     "metadata": {},
     "output_type": "execute_result"
    }
   ],
   "source": [
    "names.pop(0)"
   ]
  },
  {
   "cell_type": "code",
   "execution_count": 20,
   "metadata": {},
   "outputs": [
    {
     "data": {
      "text/plain": [
       "['maria', 'juan', 'josefino']"
      ]
     },
     "execution_count": 20,
     "metadata": {},
     "output_type": "execute_result"
    }
   ],
   "source": [
    "names"
   ]
  },
  {
   "cell_type": "code",
   "execution_count": 21,
   "metadata": {},
   "outputs": [
    {
     "data": {
      "text/plain": [
       "'juan'"
      ]
     },
     "execution_count": 21,
     "metadata": {},
     "output_type": "execute_result"
    }
   ],
   "source": [
    "names.pop(1)"
   ]
  },
  {
   "cell_type": "code",
   "execution_count": 22,
   "metadata": {},
   "outputs": [
    {
     "data": {
      "text/plain": [
       "['maria', 'josefino']"
      ]
     },
     "execution_count": 22,
     "metadata": {},
     "output_type": "execute_result"
    }
   ],
   "source": [
    "names"
   ]
  },
  {
   "cell_type": "code",
   "execution_count": 26,
   "metadata": {},
   "outputs": [],
   "source": [
    "# incorporo nombres en mi lista\n",
    "names.append(\"ruperto\")\n"
   ]
  },
  {
   "cell_type": "code",
   "execution_count": 29,
   "metadata": {},
   "outputs": [
    {
     "data": {
      "text/plain": [
       "['maria', 'josefino', ['ruperto', 'roberto']]"
      ]
     },
     "execution_count": 29,
     "metadata": {},
     "output_type": "execute_result"
    }
   ],
   "source": [
    "names"
   ]
  },
  {
   "cell_type": "code",
   "execution_count": 30,
   "metadata": {},
   "outputs": [
    {
     "data": {
      "text/plain": [
       "['ruperto', 'roberto']"
      ]
     },
     "execution_count": 30,
     "metadata": {},
     "output_type": "execute_result"
    }
   ],
   "source": [
    "names.pop(-1)"
   ]
  },
  {
   "cell_type": "code",
   "execution_count": 32,
   "metadata": {},
   "outputs": [],
   "source": [
    "names = ['maria', 'josefino', \"roberto\", \"jesus\", \"juan\"]"
   ]
  },
  {
   "cell_type": "code",
   "execution_count": 36,
   "metadata": {},
   "outputs": [],
   "source": [
    "name_1, name_2 = names[0], names[1]"
   ]
  },
  {
   "cell_type": "code",
   "execution_count": 41,
   "metadata": {},
   "outputs": [
    {
     "data": {
      "text/plain": [
       "5"
      ]
     },
     "execution_count": 41,
     "metadata": {},
     "output_type": "execute_result"
    }
   ],
   "source": [
    "len(names)"
   ]
  },
  {
   "cell_type": "code",
   "execution_count": 40,
   "metadata": {},
   "outputs": [
    {
     "name": "stdout",
     "output_type": "stream",
     "text": [
      "maria\n",
      "josefino\n",
      "roberto\n",
      "jesus\n",
      "juan\n"
     ]
    }
   ],
   "source": [
    "# ciclos finitos: for\n",
    "for n in names:\n",
    "    print(n)"
   ]
  },
  {
   "cell_type": "code",
   "execution_count": 44,
   "metadata": {},
   "outputs": [
    {
     "name": "stdout",
     "output_type": "stream",
     "text": [
      "2\n",
      "3\n",
      "4\n",
      "5\n",
      "6\n"
     ]
    }
   ],
   "source": [
    "for n in range(2,7):\n",
    "    print(n)\n"
   ]
  },
  {
   "cell_type": "code",
   "execution_count": 45,
   "metadata": {},
   "outputs": [
    {
     "name": "stdout",
     "output_type": "stream",
     "text": [
      "0\n",
      "1\n",
      "2\n",
      "3\n",
      "4\n"
     ]
    }
   ],
   "source": [
    "for name in range( len(names) ):\n",
    "    print(name)"
   ]
  },
  {
   "cell_type": "code",
   "execution_count": 46,
   "metadata": {},
   "outputs": [
    {
     "data": {
      "text/plain": [
       "['maria', 'josefino', 'roberto', 'jesus', 'juan']"
      ]
     },
     "execution_count": 46,
     "metadata": {},
     "output_type": "execute_result"
    }
   ],
   "source": [
    "names"
   ]
  },
  {
   "cell_type": "code",
   "execution_count": 47,
   "metadata": {},
   "outputs": [
    {
     "name": "stdout",
     "output_type": "stream",
     "text": [
      "maria\n",
      "josefino\n",
      "roberto\n",
      "jesus\n",
      "juan\n"
     ]
    }
   ],
   "source": [
    "for name in range( len(names) ):\n",
    "    print(names[name])"
   ]
  },
  {
   "cell_type": "code",
   "execution_count": 48,
   "metadata": {},
   "outputs": [
    {
     "name": "stdout",
     "output_type": "stream",
     "text": [
      "encontre a Juan en la posición 4\n"
     ]
    }
   ],
   "source": [
    "for name in range( len(names) ):\n",
    "    if names[name] == \"juan\":\n",
    "        print(\"encontre a Juan en la posición\", name)"
   ]
  }
 ],
 "metadata": {
  "kernelspec": {
   "display_name": "Python 3",
   "language": "python",
   "name": "python3"
  },
  "language_info": {
   "codemirror_mode": {
    "name": "ipython",
    "version": 3
   },
   "file_extension": ".py",
   "mimetype": "text/x-python",
   "name": "python",
   "nbconvert_exporter": "python",
   "pygments_lexer": "ipython3",
   "version": "3.12.6"
  }
 },
 "nbformat": 4,
 "nbformat_minor": 2
}
