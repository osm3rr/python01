{
 "cells": [
  {
   "cell_type": "code",
   "execution_count": 3,
   "metadata": {
    "metadata": {}
   },
   "outputs": [
    {
     "name": "stdout",
     "output_type": "stream",
     "text": [
      "epale mundo 2\n"
     ]
    }
   ],
   "source": [
    "print(\"epale mundo 2\")"
   ]
  },
  {
   "cell_type": "markdown",
   "metadata": {},
   "source": []
  },
  {
   "cell_type": "markdown",
   "metadata": {},
   "source": [
    "### Python\n",
    "* Variables\n",
    "* Sintaxis \n",
    "    - Tipos de errores\n",
    "* Operadores matemáticos básicos\n",
    "* Operadores de comparación\n",
    "* Operadores lógicos\n",
    "* Condicionales \n",
    "    - simples\n",
    "    - Anidados\n",
    "    - Encadenados\n",
    "* Ciclos\n",
    "    - finitos\n",
    "    - infinitos\n",
    "* Funciones\n",
    "* Estructuras de datos\n",
    "    - Cadenas de caracteres\n",
    "    - Enteros\n",
    "    - Flotantes\n",
    "    - Listas\n",
    "    - Diccionarios\n",
    "    - Tuplas\n",
    "\n"
   ]
  },
  {
   "cell_type": "code",
   "execution_count": 6,
   "metadata": {
    "metadata": {}
   },
   "outputs": [],
   "source": [
    "# variables\n",
    "# minuscula\n",
    "name = \"josefino\"\n",
    "apellido = 'primero'"
   ]
  },
  {
   "cell_type": "code",
   "execution_count": 10,
   "metadata": {
    "metadata": {}
   },
   "outputs": [
    {
     "ename": "SyntaxError",
     "evalue": "cannot assign to expression here. Maybe you meant '==' instead of '='? (1610165941.py, line 4)",
     "output_type": "error",
     "traceback": [
      "\u001b[1;36m  Cell \u001b[1;32mIn[10], line 4\u001b[1;36m\u001b[0m\n\u001b[1;33m    last-name = 'primero'\u001b[0m\n\u001b[1;37m    ^\u001b[0m\n\u001b[1;31mSyntaxError\u001b[0m\u001b[1;31m:\u001b[0m cannot assign to expression here. Maybe you meant '==' instead of '='?\n"
     ]
    }
   ],
   "source": [
    "last_name = 'primero'\n",
    "LastName = 'primero'\n",
    "\n",
    "last-name = 'primero'"
   ]
  },
  {
   "cell_type": "code",
   "execution_count": 11,
   "metadata": {
    "metadata": {}
   },
   "outputs": [
    {
     "ename": "NameError",
     "evalue": "name 'last' is not defined",
     "output_type": "error",
     "traceback": [
      "\u001b[1;31m---------------------------------------------------------------------------\u001b[0m",
      "\u001b[1;31mNameError\u001b[0m                                 Traceback (most recent call last)",
      "Cell \u001b[1;32mIn[11], line 1\u001b[0m\n\u001b[1;32m----> 1\u001b[0m \u001b[43mlast\u001b[49m\u001b[38;5;241m.\u001b[39mname \u001b[38;5;241m=\u001b[39m \u001b[38;5;124m\"\u001b[39m\u001b[38;5;124mprimero\u001b[39m\u001b[38;5;124m\"\u001b[39m\n",
      "\u001b[1;31mNameError\u001b[0m: name 'last' is not defined"
     ]
    }
   ],
   "source": [
    "last.name = \"primero\""
   ]
  },
  {
   "cell_type": "code",
   "execution_count": null,
   "metadata": {},
   "outputs": [],
   "source": [
    "name = 'josefino'"
   ]
  },
  {
   "cell_type": "code",
   "execution_count": 12,
   "metadata": {
    "metadata": {}
   },
   "outputs": [
    {
     "ename": "SyntaxError",
     "evalue": "cannot assign to expression here. Maybe you meant '==' instead of '='? (3338274558.py, line 1)",
     "output_type": "error",
     "traceback": [
      "\u001b[1;36m  Cell \u001b[1;32mIn[12], line 1\u001b[1;36m\u001b[0m\n\u001b[1;33m    last-name = 'josewfino'\u001b[0m\n\u001b[1;37m    ^\u001b[0m\n\u001b[1;31mSyntaxError\u001b[0m\u001b[1;31m:\u001b[0m cannot assign to expression here. Maybe you meant '==' instead of '='?\n"
     ]
    }
   ],
   "source": [
    "last-name = 'josewfino'"
   ]
  },
  {
   "cell_type": "code",
   "execution_count": 13,
   "metadata": {
    "metadata": {}
   },
   "outputs": [],
   "source": [
    "Last_name = 'josefino'"
   ]
  },
  {
   "cell_type": "code",
   "execution_count": 14,
   "metadata": {
    "metadata": {}
   },
   "outputs": [
    {
     "data": {
      "text/plain": [
       "'primero'"
      ]
     },
     "execution_count": 14,
     "metadata": {},
     "output_type": "execute_result"
    }
   ],
   "source": [
    "last_name"
   ]
  },
  {
   "cell_type": "code",
   "execution_count": 26,
   "metadata": {
    "metadata": {}
   },
   "outputs": [
    {
     "name": "stdout",
     "output_type": "stream",
     "text": [
      "Suma: 30\n",
      "Resta: -10\n",
      "Multiplicación: 200\n",
      "División: 0.5\n"
     ]
    }
   ],
   "source": [
    "# OPERADORES MATEMATICOS\n",
    "number_1 = 10\n",
    "number_2 = 20\n",
    "\n",
    "# suma\n",
    "sum_two = number_1 + number_2\n",
    "print(\"Suma:\", sum_two)\n",
    "\n",
    "# resta\n",
    "resta = number_1 - number_2\n",
    "print(\"Resta:\", resta)\n",
    "\n",
    "# multiplicación\n",
    "\n",
    "multi = number_1 * number_2\n",
    "print(\"Multiplicación:\", multi)\n",
    "\n",
    "# división \n",
    "div = number_1 / number_2\n",
    "print(\"División:\", div )"
   ]
  },
  {
   "cell_type": "code",
   "execution_count": 34,
   "metadata": {
    "metadata": {}
   },
   "outputs": [
    {
     "name": "stdout",
     "output_type": "stream",
     "text": [
      "Resta: -11.22\n",
      "Multiplicación: 255.4915\n",
      "División: 0.5024390243902439\n",
      "Suma: 33.88\n"
     ]
    }
   ],
   "source": [
    "# OPERADORES MATEMATICOS\n",
    "number_1 = input( \"Ingrese el primer número: \" )\n",
    "number_1 = float(number_1)\n",
    "\n",
    "number_2 = input( \"Ingrese el segundo número: \" )\n",
    "number_2 = float(number_2)\n",
    "\n",
    "# resta\n",
    "resta = number_1 - number_2\n",
    "print(\"Resta:\", resta)\n",
    "\n",
    "# multiplicación\n",
    "\n",
    "multi = number_1 * number_2\n",
    "print(\"Multiplicación:\", multi)\n",
    "\n",
    "# división \n",
    "div = number_1 / number_2\n",
    "print(\"División:\", div )\n",
    "\n",
    "# suma\n",
    "sum_two = number_1 + number_2\n",
    "print(\"Suma:\", sum_two)"
   ]
  },
  {
   "cell_type": "code",
   "execution_count": 32,
   "metadata": {
    "metadata": {}
   },
   "outputs": [
    {
     "data": {
      "text/plain": [
       "'1122'"
      ]
     },
     "execution_count": 32,
     "metadata": {},
     "output_type": "execute_result"
    }
   ],
   "source": []
  },
  {
   "cell_type": "code",
   "execution_count": 33,
   "metadata": {
    "metadata": {}
   },
   "outputs": [
    {
     "data": {
      "text/plain": [
       "'aabb'"
      ]
     },
     "execution_count": 33,
     "metadata": {},
     "output_type": "execute_result"
    }
   ],
   "source": [
    "\"aa\" + \"bb\""
   ]
  },
  {
   "cell_type": "code",
   "execution_count": 30,
   "metadata": {
    "metadata": {}
   },
   "outputs": [
    {
     "data": {
      "text/plain": [
       "str"
      ]
     },
     "execution_count": 30,
     "metadata": {},
     "output_type": "execute_result"
    }
   ],
   "source": [
    "type(number_1)"
   ]
  },
  {
   "cell_type": "code",
   "execution_count": 44,
   "metadata": {
    "metadata": {}
   },
   "outputs": [
    {
     "name": "stdout",
     "output_type": "stream",
     "text": [
      "mayor\n"
     ]
    }
   ],
   "source": [
    "# condicional\n",
    "# operadores de comparación\n",
    "# mayor >\n",
    "# menor <\n",
    "# mayor igual >=\n",
    "# menor igual <=\n",
    "# igual? ==\n",
    "# diferente != \n",
    "\n",
    "number_1 = int( input(\"número 1:\") )\n",
    "number_2 = int(input(\"número 2: \"))\n",
    "\n",
    "if number_1 > number_2:\n",
    "    print(\"mayor\")\n",
    "else:\n",
    "    print(\"menor\")"
   ]
  },
  {
   "cell_type": "code",
   "execution_count": 37,
   "metadata": {
    "metadata": {}
   },
   "outputs": [
    {
     "data": {
      "text/plain": [
       "False"
      ]
     },
     "execution_count": 37,
     "metadata": {},
     "output_type": "execute_result"
    }
   ],
   "source": [
    "2 > 2"
   ]
  },
  {
   "cell_type": "code",
   "execution_count": 35,
   "metadata": {
    "metadata": {}
   },
   "outputs": [
    {
     "name": "stdout",
     "output_type": "stream",
     "text": [
      "Resta: -65.88999999999999\n",
      "Multiplicación: 3380.2076\n",
      "División: 0.33958103638368253\n",
      "Suma: 133.65\n"
     ]
    }
   ],
   "source": [
    "# OPERADORES MATEMATICOS\n",
    "number_1 = float(input( \"Ingrese el primer número: \" ))\n",
    "\n",
    "number_2 =  float(input( \"Ingrese el segundo número: \" ))\n",
    "\n",
    "operation = input(\"Seleccione su operación: suma, resta, milti, div\")\n",
    "\n",
    "\n",
    "# resta\n",
    "resta = number_1 - number_2\n",
    "print(\"Resta:\", resta)\n",
    "\n",
    "# multiplicación\n",
    "multi = number_1 * number_2\n",
    "print(\"Multiplicación:\", multi)\n",
    "\n",
    "# división \n",
    "div = number_1 / number_2\n",
    "print(\"División:\", div )\n",
    "\n",
    "# suma\n",
    "sum_two = number_1 + number_2\n",
    "print(\"Suma:\", sum_two)"
   ]
  },
  {
   "cell_type": "code",
   "execution_count": null,
   "metadata": {},
   "outputs": [],
   "source": []
  }
 ],
 "metadata": {
  "kernelspec": {
   "display_name": "Python 3",
   "language": "python",
   "name": "python3"
  },
  "language_info": {
   "codemirror_mode": {
    "name": "ipython",
    "version": 3
   },
   "file_extension": ".py",
   "mimetype": "text/x-python",
   "name": "python",
   "nbconvert_exporter": "python",
   "pygments_lexer": "ipython3",
   "version": "3.12.6"
  }
 },
 "nbformat": 4,
 "nbformat_minor": 2
}
